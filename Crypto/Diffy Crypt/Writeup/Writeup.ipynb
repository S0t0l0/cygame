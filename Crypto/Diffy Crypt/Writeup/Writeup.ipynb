{
 "cells": [
  {
   "cell_type": "markdown",
   "id": "0a0be54f-76e9-42d2-afdc-c131209919ca",
   "metadata": {},
   "source": [
    "# Diffy Crypt Writeup\n",
    "\n",
    "## The Network\n",
    "\n",
    "To start solving this challenge, let's take a look at our encryption network:"
   ]
  },
  {
   "cell_type": "markdown",
   "id": "4c3275a2-7eca-471d-b4fa-8f79b48bbe95",
   "metadata": {},
   "source": [
    "![image](src/Network.PNG \"Figure 1\")"
   ]
  },
  {
   "cell_type": "markdown",
   "id": "4e443da8-f438-4def-b7e6-a9f105c3e48d",
   "metadata": {},
   "source": [
    "## Differential Cryptanalysis\n",
    "\n",
    "Given we do not know the key schedule for this network, a brute force technique would require enumerating through each of the six 8-bit keys. Effectively, this would be the same brute forcing a 48-bit key. However, in this case, a technique know as differential cryptanalysis will allow us to severely reduce the number of keys we need to 'guess'. In this attack method, we first choose two plaintext $x$ and $x'$ and record there difference $\\Delta x$ where\n",
    "\n",
    "$$x \\oplus x' = \\Delta x.$$\n",
    "\n",
    "For our encryption network above, we first examine our XOR operator $\\oplus$ for any key $k$."
   ]
  },
  {
   "cell_type": "markdown",
   "id": "dabc4bde-ee00-4f87-a6bf-40ef2245ecc1",
   "metadata": {},
   "source": [
    "### The Bitwise XOR and Keys\n",
    "\n",
    "Let $x$ and $x'$ be plaintexts such that $x \\oplus x' = \\Delta x$. Simultaneously, let ciphertexts $y = x \\oplus k$ and $y' = x' \\oplus k$, where $k$ is some key. Additionally, we define $\\Delta y = y \\oplus y'$. For any key $k$, we have\n",
    "\n",
    "$$\n",
    "\\begin{align}\n",
    "\\Delta y &= y \\oplus y' \\\\\n",
    "&= (x \\oplus k) \\oplus (x' \\oplus k) \\\\\n",
    "&= x \\oplus k \\oplus x' \\oplus k \\\\\n",
    "&= x \\oplus x' \\oplus k \\oplus k \\\\\n",
    "&= x \\oplus x' \\oplus 0 \\\\\n",
    "&= x \\oplus x' \\\\\n",
    "&= \\Delta x\n",
    "\\end{align}\n",
    "$$\n",
    "\n",
    "That is to say, if two plaintexts differ by $\\Delta x$, then the two ciphertexts will differ by $\\Delta x$ as well.† For example, let $x$ be the encoded form of 'hi' in Unicode. That is, $x = 6869_{16}$. Further, let $x' = \\mathrm{e8e9}_{16}$ so that $x \\oplus x' = 8080_{16}$. Without even knowing key $k$, we would know that $y \\oplus y' = (x \\oplus k) \\oplus (x' \\oplus k) = 8080_{16}$. Nevertheless, to further understand our encryption, let's look at our round function $R.$\n",
    "\n",
    "† - The ciphertexts we dicuss here refer to plaintext XOR'd with some key $k$, not resulting ciphertext of the entire network."
   ]
  },
  {
   "cell_type": "markdown",
   "id": "9bd1eb9a-7ff1-44a9-bff4-3059ca66cd17",
   "metadata": {},
   "source": [
    "### The Round Function\n",
    "\n",
    "As hinted in the instructions, the round function $R$ define by $R(x) = (-x \\textrm{ mod } 256) \\lll 4$ is incredibly weak. To see why, we start by defining this function:"
   ]
  },
  {
   "cell_type": "code",
   "execution_count": 1,
   "id": "02511fed-8cf4-4394-ab11-0c0f12bdd427",
   "metadata": {},
   "outputs": [
    {
     "name": "stdout",
     "output_type": "stream",
     "text": [
      "R(0x01) = 0xff\n",
      "R(0x6d) = 0x39\n",
      "R(0x54) = 0xca\n"
     ]
    }
   ],
   "source": [
    "def R(x):\n",
    "    neg_x = -x % 256\n",
    "    left4_cycshift = (neg_x << 4) & 0xff | (neg_x >> 4)\n",
    "    return left4_cycshift\n",
    "\n",
    "print('R(0x01) = ' + hex(R(0x01)))\n",
    "print('R(0x6d) = ' + hex(R(0x6d)))\n",
    "print('R(0x54) = ' + hex(R(0x54)))"
   ]
  },
  {
   "cell_type": "markdown",
   "id": "3a15a3ec-dd0b-4537-ba98-416ec43a912e",
   "metadata": {},
   "source": [
    "Note, by the nature of our encryption algorithm, our function $R$ only accepts a bytes (integer between $0$ and $255$) as inputs. To showcase this function's weakness however, let us take two bytes $x$ and $x'$ with $\\Delta x = x \\oplus x'$. It follows,\n",
    "\n",
    "$$\n",
    "\\begin{align}\n",
    "\\Delta x &= x \\oplus x' \\\\\n",
    "\\Delta x &= x' \\oplus x \\\\\n",
    "\\Delta x \\oplus x &= x' \\oplus x \\oplus x \\\\\n",
    "\\Delta x \\oplus x &= x' \\oplus 0 \\\\\n",
    "\\Delta x \\oplus x &= x' \\\\\n",
    "x \\oplus \\Delta x &= x' \\\\\n",
    "\\end{align}\n",
    "$$\n",
    "\n",
    "Moreover, if for every byte $x$ we can show that $R(x) \\oplus R(x') = R(x) \\oplus R(x \\oplus \\Delta x) = \\Delta y$ for some $\\Delta x$ and some $\\Delta y$, we can glean comprimising information about the encryption network. In fact:"
   ]
  },
  {
   "cell_type": "code",
   "execution_count": 2,
   "id": "4b977fcd-2f9f-47cd-84d5-ffd754a726b5",
   "metadata": {},
   "outputs": [
    {
     "name": "stdout",
     "output_type": "stream",
     "text": [
      "R(x) XOR R(x XOR 0x0) = 0x0 for every x.\n",
      "R(x) XOR R(x XOR 0x80) = 0x8 for every x.\n"
     ]
    }
   ],
   "source": [
    "for Delta_x in range(256):\n",
    "    image = set()\n",
    "    for x in range(256):\n",
    "        Delta_y = R(x) ^ R(x ^ Delta_x)\n",
    "        image.add(Delta_y)\n",
    "    if len(image) == 1:\n",
    "        print(f'R(x) XOR R(x XOR {hex(Delta_x)}) = {hex(Delta_y)} for every x.')\n",
    "    "
   ]
  },
  {
   "cell_type": "markdown",
   "id": "b22bf000-000e-471c-950a-7edb1a1fcfe9",
   "metadata": {},
   "source": [
    "Of course, $R(x) \\oplus R(x \\oplus 0) = R(x) \\oplus R(x) = 0$ for every $x$. More interestingly though, \n",
    "$$R(x) \\oplus R(x \\oplus 80_{16}) = 08_{16}$$ for every $x$. This tells us if two bytes $x$ and $x'$ differ by $80_{16}$, then $R(x) \\oplus R(x')$ will always equal $08_{16}$. This weakness allows us to inspect our encryption network under a new light."
   ]
  },
  {
   "cell_type": "markdown",
   "id": "75ffaeee-92f5-4182-99f6-5741cceee419",
   "metadata": {},
   "source": [
    "## The Differential Network\n",
    "\n",
    "Let's take another look at our network with labled rounds:"
   ]
  },
  {
   "cell_type": "markdown",
   "id": "787ca8a7-e799-4c93-a874-2013cc1d1e41",
   "metadata": {},
   "source": [
    "![image](src/Rounds.PNG)"
   ]
  },
  {
   "cell_type": "markdown",
   "id": "45c57860-1fab-48af-b3d3-e59fe3e0b9e2",
   "metadata": {},
   "source": [
    "Given our block cipher has a size of 16 bits (2 bytes; 1 word), suppose we have two words $x$ and $x'$ such that $x \\oplus x' = 8080_{16}$. Then the left half (left byte) will of $x$ differ by $80_{16}$ from $x'$ and the right half of $x$ will also differ by $80_{16}$ from $x'$. From before, we know XORing each half by some key (Round 1) will not affect their difference. However, XORing halves together (Round 2) will affect the difference between two words as they progress through the encryption network. \n",
    "\n",
    "To demonstrate (focusing strictly on the Round 2), again take two words $x$ and $x'$ with $x \\oplus x' = 8080_{16}$. Let $b_l$ and $b_l'$ be the left byte (most significant byte) of words $x$ and $x'$ respectively, where $y = x \\oplus b_l$ and $y' = x' \\oplus b_l'$. Given $x \\oplus x' = 8080_{16}$, then $b_l \\oplus b_l' = 80_{16}$. We can then calculate the resulting difference $\\Delta y$, where\n",
    "\n",
    "$$\n",
    "\\begin{align}\n",
    "\\Delta y &= y \\oplus y' \\\\\n",
    "&= x \\oplus b_l \\oplus x' \\oplus b_l' \\\\\n",
    "&= x \\oplus x' \\oplus b_l \\oplus b_l' \\\\\n",
    "&= 8080_{16} \\oplus 80_{16} \\\\\n",
    "&= 8000_{16}. \\\\\n",
    "\\end{align}\n",
    "$$\n",
    "\n",
    "That is, if two words initially differ by $8080_{16}$, their left bytes will differ by $80_{16}$ and their right bytes will differ by $00_{16}$ after they progress through Round 2.\n",
    "\n",
    "Additionally, recall from before that if two bytes differ by $80_{16}$, they will then differ by $08_{16}$ after being past through the round function $R$.\n",
    "\n",
    "Taking all this information into account, say we have two 16-bit blocks (in plaintext) that have a difference of $8080_{16}$. We can then somewhat track the difference between these two blocks as they pass through the network:"
   ]
  },
  {
   "cell_type": "markdown",
   "id": "abff2682-6a49-406c-9a09-498b1be908df",
   "metadata": {},
   "source": [
    "![image](src/Diff1.PNG)"
   ]
  },
  {
   "cell_type": "markdown",
   "id": "c6498343-cece-40ae-9e66-6dab315b4662",
   "metadata": {},
   "source": [
    "For the most part we have some success until we reach the round function in the fifth round. Specifically, if two bytes $x$ and $x'$ differ by $08_{16}$, we cannot guarantee a unique value for $R(x) \\oplus R(x')$. This is where we make use of our plaintext-ciphertext pairs:"
   ]
  },
  {
   "cell_type": "code",
   "execution_count": 3,
   "id": "57aec7e1-2d7b-448f-b611-0c000e849363",
   "metadata": {},
   "outputs": [
    {
     "data": {
      "text/html": [
       "<div>\n",
       "<style scoped>\n",
       "    .dataframe tbody tr th:only-of-type {\n",
       "        vertical-align: middle;\n",
       "    }\n",
       "\n",
       "    .dataframe tbody tr th {\n",
       "        vertical-align: top;\n",
       "    }\n",
       "\n",
       "    .dataframe thead th {\n",
       "        text-align: right;\n",
       "    }\n",
       "</style>\n",
       "<table border=\"1\" class=\"dataframe\">\n",
       "  <thead>\n",
       "    <tr style=\"text-align: right;\">\n",
       "      <th></th>\n",
       "      <th>P</th>\n",
       "      <th>E(P)</th>\n",
       "      <th>E(P XOR 0x8080)</th>\n",
       "      <th>E(P XOR 0x0080)</th>\n",
       "      <th>E(P XOR 0x0008)</th>\n",
       "    </tr>\n",
       "  </thead>\n",
       "  <tbody>\n",
       "    <tr>\n",
       "      <th>0</th>\n",
       "      <td>0x0041</td>\n",
       "      <td>0x7e0a</td>\n",
       "      <td>0x4732</td>\n",
       "      <td>0x0884</td>\n",
       "      <td>0xd6dc</td>\n",
       "    </tr>\n",
       "    <tr>\n",
       "      <th>1</th>\n",
       "      <td>0x0079</td>\n",
       "      <td>0xd522</td>\n",
       "      <td>0xce3a</td>\n",
       "      <td>0xa3ac</td>\n",
       "      <td>0x9d14</td>\n",
       "    </tr>\n",
       "    <tr>\n",
       "      <th>2</th>\n",
       "      <td>0x9f5e</td>\n",
       "      <td>0xcea3</td>\n",
       "      <td>0xd6b4</td>\n",
       "      <td>0x4623</td>\n",
       "      <td>0xba5b</td>\n",
       "    </tr>\n",
       "    <tr>\n",
       "      <th>3</th>\n",
       "      <td>0x6379</td>\n",
       "      <td>0x7a47</td>\n",
       "      <td>UNKNOWN</td>\n",
       "      <td>UNKNOWN</td>\n",
       "      <td>UNKNOWN</td>\n",
       "    </tr>\n",
       "    <tr>\n",
       "      <th>4</th>\n",
       "      <td>0x455f</td>\n",
       "      <td>0x8223</td>\n",
       "      <td>UNKNOWN</td>\n",
       "      <td>UNKNOWN</td>\n",
       "      <td>UNKNOWN</td>\n",
       "    </tr>\n",
       "    <tr>\n",
       "      <th>5</th>\n",
       "      <td>0x366f</td>\n",
       "      <td>0x1a2f</td>\n",
       "      <td>UNKNOWN</td>\n",
       "      <td>UNKNOWN</td>\n",
       "      <td>UNKNOWN</td>\n",
       "    </tr>\n",
       "  </tbody>\n",
       "</table>\n",
       "</div>"
      ],
      "text/plain": [
       "        P    E(P) E(P XOR 0x8080) E(P XOR 0x0080) E(P XOR 0x0008)\n",
       "0  0x0041  0x7e0a          0x4732          0x0884          0xd6dc\n",
       "1  0x0079  0xd522          0xce3a          0xa3ac          0x9d14\n",
       "2  0x9f5e  0xcea3          0xd6b4          0x4623          0xba5b\n",
       "3  0x6379  0x7a47         UNKNOWN         UNKNOWN         UNKNOWN\n",
       "4  0x455f  0x8223         UNKNOWN         UNKNOWN         UNKNOWN\n",
       "5  0x366f  0x1a2f         UNKNOWN         UNKNOWN         UNKNOWN"
      ]
     },
     "execution_count": 3,
     "metadata": {},
     "output_type": "execute_result"
    }
   ],
   "source": [
    "import pandas\n",
    "\n",
    "file = open(r'src\\plain-cipher.csv', 'r')\n",
    "df = pandas.read_csv(file)\n",
    "file.close()\n",
    "df"
   ]
  },
  {
   "cell_type": "markdown",
   "id": "df1eca1c-8faa-4cc4-8f17-8a2b43bede7d",
   "metadata": {},
   "source": [
    "Before we assign variables according to our table above, it may help to create a class to keep track of the left and right byte for a block (and automatically update the entire word block as we adjust left and right bytes):"
   ]
  },
  {
   "cell_type": "code",
   "execution_count": 4,
   "id": "e0f4810b-073d-48ae-96d4-a3ec3399a57f",
   "metadata": {},
   "outputs": [],
   "source": [
    "class Block:\n",
    "    def __init__(self, block):\n",
    "        self.left = block >> 8\n",
    "        self.right = block & 0xff\n",
    "\n",
    "    @property\n",
    "    def word(self):\n",
    "        return (self.left << 8) | self.right\n",
    "\n",
    "    @word.setter\n",
    "    def word(self, val):\n",
    "        self.word = val"
   ]
  },
  {
   "cell_type": "markdown",
   "id": "291ded74-abb8-4573-9700-366079bcdbdf",
   "metadata": {},
   "source": [
    "We can now define our variables utilizing our class above:"
   ]
  },
  {
   "cell_type": "code",
   "execution_count": 5,
   "id": "8452ac28-f817-47c8-92ea-67e6b465468e",
   "metadata": {},
   "outputs": [],
   "source": [
    "P0, EP0, EP0x8080, EP0x0080, EP0x0008 = Block(0x0041), Block(0x7e0a), Block(0x4732), Block(0x0884), Block(0xd6dc)\n",
    "P1, EP1, EP1x8080, EP1x0080, EP1x0008 = [Block(eval(item)) for item in df.iloc[1]]\n",
    "P2, EP2, EP2x8080, EP2x0080, EP2x0008 = [Block(eval(item)) for item in df.iloc[2]]\n",
    "P3, EP3 = [Block(eval(item)) for item in df.iloc[3][:2]]\n",
    "P4, EP4 = [Block(eval(item)) for item in df.iloc[4][:2]]\n",
    "P5, EP5 = [Block(eval(item)) for item in df.iloc[5][:2]]"
   ]
  },
  {
   "cell_type": "markdown",
   "id": "0194138d-1472-489c-8a6d-114251494568",
   "metadata": {},
   "source": [
    "At the same time, we can create a function that inverts (undoes) Round 7 of the encryption network (we need not worry about keys for this round):"
   ]
  },
  {
   "cell_type": "code",
   "execution_count": 6,
   "id": "0d566889-90bc-4869-b4eb-4a2404e97a0a",
   "metadata": {},
   "outputs": [],
   "source": [
    "def round7_inv(B: Block) -> Block:\n",
    "    N = Block(0)\n",
    "    N.left = B.left ^ B.right\n",
    "    N.right = B.right\n",
    "    return N"
   ]
  },
  {
   "cell_type": "markdown",
   "id": "e2c01057-870f-47cc-9ff5-18afb37acdac",
   "metadata": {},
   "source": [
    "This way, we may examine what undoing Round 7 on our encrypted block $E(P_0)$ would look like:"
   ]
  },
  {
   "cell_type": "code",
   "execution_count": 7,
   "id": "0e213da6-3d7b-4c75-8d96-a307140efbdc",
   "metadata": {},
   "outputs": [
    {
     "name": "stdout",
     "output_type": "stream",
     "text": [
      "EP0 before Round 7 inversion: 0x7e0a\n",
      "EP0 after Round 7 inversion: 0x740a\n"
     ]
    }
   ],
   "source": [
    "print('EP0 before Round 7 inversion:', hex(EP0.word))\n",
    "print('EP0 after Round 7 inversion:', hex(round7_inv(EP0).word))"
   ]
  },
  {
   "cell_type": "markdown",
   "id": "ecabc597-1e59-44f5-bc14-e354ccb13f4f",
   "metadata": {},
   "source": [
    "Before we can invert Round 6, we need to find what possible values $K_5$ may possess. To do this, first take $P_0 = 0041_{16}$. We see from our data that $E(P_0) = \\mathrm{7e0a}_{16}$ and $E(P_0 \\oplus 8080_{16}) = 4732_{16}$. From our differential analysis before, we know if we reverse Round 6 on $E(P_0)$ and $E(P_0 \\oplus 8080_{16})$, then the right byte of these two partially decrypted blocks should differ by $08_{16}$. So, let's iterate through all possible values and capture (8-bit) keys that do not contradict our analysis:"
   ]
  },
  {
   "cell_type": "code",
   "execution_count": 8,
   "id": "4cdd991c-18cb-4194-9801-ada021baefd0",
   "metadata": {},
   "outputs": [],
   "source": [
    "def crack_k5(B: Block, DB: Block) -> set:\n",
    "    S = set()\n",
    "    B = round7_inv(B)\n",
    "    DB = round7_inv(DB)\n",
    "    for k5 in range(0xff):\n",
    "        if (R(B.left ^ k5) ^ B.right) ^ (R(DB.left ^ k5) ^ DB.right) == 0x08:\n",
    "            S.add(k5)\n",
    "    return S        "
   ]
  },
  {
   "cell_type": "markdown",
   "id": "27d0df9f-9653-4a40-bd18-0677a50e9f4a",
   "metadata": {},
   "source": [
    "The function above is mainly for set building. Assuming a key is valid, it should appear in every set $S_i$ for $E(P_i)$ and $E(P_i \\oplus 8080_{16})$ pairs:"
   ]
  },
  {
   "cell_type": "code",
   "execution_count": 9,
   "id": "57b4b709-96e7-4e7e-8919-7afb73849b71",
   "metadata": {},
   "outputs": [
    {
     "name": "stdout",
     "output_type": "stream",
     "text": [
      "Possible K_5 keys are in {98, 226}.\n"
     ]
    }
   ],
   "source": [
    "S0 = crack_k5(EP0, EP0x8080)\n",
    "S1 = crack_k5(EP1, EP1x8080)\n",
    "S2 = crack_k5(EP2, EP2x8080)\n",
    "valid_K5s = set.intersection(S0, S1, S2)\n",
    "print(f'Possible K_5 keys are in {valid_K5s}.')"
   ]
  },
  {
   "cell_type": "markdown",
   "id": "2c5d251b-ed08-4535-abbb-72fdc21d5099",
   "metadata": {},
   "source": [
    "Ultimately, this means $K_5$ may be $98$ or $226$ ($62_{16}$ or $\\mathrm{e2}_{16}$ respectively). Effectively, this takes us from cracking a 48-bit key to a 41-bit key, but we can further reduce this number. With these potential keys in mind, let's make a function that inverts Round 6:"
   ]
  },
  {
   "cell_type": "code",
   "execution_count": 10,
   "id": "4160f405-882b-4018-a9e5-eebff3e7ca53",
   "metadata": {},
   "outputs": [],
   "source": [
    "def round6_inv(B: Block, k5):\n",
    "    B = round7_inv(B)\n",
    "    N = Block(0)\n",
    "    N.left = B.left\n",
    "    N.right = R(B.left ^ k5) ^ B.right\n",
    "    return N"
   ]
  },
  {
   "cell_type": "markdown",
   "id": "8847dcbd-6c35-4571-be06-a32397c0ba02",
   "metadata": {},
   "source": [
    "Using the same $E(P_i)$ and $E(P_i \\oplus 8080_{16})$ pairs, we can perform a similar analysis to crack $K_4$ and reverse Round 5."
   ]
  },
  {
   "cell_type": "code",
   "execution_count": 11,
   "id": "f82b371a-d19b-438c-ae08-08eed77fa9d8",
   "metadata": {},
   "outputs": [],
   "source": [
    "def crack_k4(B: Block, DB: Block, k5) -> set:\n",
    "    S = set()\n",
    "    B = round6_inv(B, k5)\n",
    "    DB = round6_inv(DB, k5)\n",
    "    for k4 in range(0xff):\n",
    "        if (R(B.right ^ k4) ^ B.left) ^ (R(DB.right ^ k4) ^ DB.left) == 0x80:\n",
    "            S.add(k4)\n",
    "    return S"
   ]
  },
  {
   "cell_type": "markdown",
   "id": "fb51b328-e60a-4983-bbe0-988a4edc7be1",
   "metadata": {},
   "source": [
    "However, seeing that $K_5$ may be one of two values, a false $K_5$ may lead to false information. As such, it is important to consider values for $K_4$ when $K_5$ = $62_{16}$ or when $K_5 = \\mathrm{e2}_{16}$. To do this, we first suppose $K_5$ = $62_{16}$, build our sets and take the intersection (like before with key $K_5$). We then suppose $K_5 = \\mathrm{e2}_{16}$ and calculate the intersection. We then perform a union between these set intersections to gather valid keys for $K_4$:"
   ]
  },
  {
   "cell_type": "code",
   "execution_count": 12,
   "id": "b364a547-3bdd-4303-b07d-d3d57d754534",
   "metadata": {},
   "outputs": [
    {
     "name": "stdout",
     "output_type": "stream",
     "text": [
      "Possible K_4 keys are in {60, 180, 52, 188}.\n"
     ]
    }
   ],
   "source": [
    "valid_K4s = []\n",
    "for k5 in valid_K5s:\n",
    "    S0 = crack_k4(EP0, EP0x8080, k5)\n",
    "    S1 = crack_k4(EP1, EP1x8080, k5)\n",
    "    S2 = crack_k4(EP2, EP2x8080, k5)\n",
    "    S_cap = set.intersection(S0, S1, S2)\n",
    "    if S_cap:\n",
    "        valid_K4s.append(S_cap)\n",
    "valid_K4s = set.union(*valid_K4s)\n",
    "print(f'Possible K_4 keys are in {valid_K4s}.')"
   ]
  },
  {
   "cell_type": "markdown",
   "id": "f7976601-1423-40d5-993c-5f9cddbf08d7",
   "metadata": {},
   "source": [
    "Now, we may create a function that reverses Round 5:"
   ]
  },
  {
   "cell_type": "code",
   "execution_count": 13,
   "id": "4fd1554f-1132-4396-8b01-9fadc00e4bc9",
   "metadata": {},
   "outputs": [],
   "source": [
    "def round5_inv(B: Block, k5, k4):\n",
    "    B = round6_inv(B, k5)\n",
    "    N = Block(0)\n",
    "    N.left = R(B.right ^ k4) ^ B.left\n",
    "    N.right = B.right\n",
    "    return N"
   ]
  },
  {
   "cell_type": "markdown",
   "id": "1eebf177-da92-4ead-afad-574a4b0bac71",
   "metadata": {},
   "source": [
    "If we continue to work with our current $E(P_i)$ and $E(P_i \\oplus 8080_{16})$ pairs, we will find every key is valid for $K_3$. To work around this, let's take a look at our network when two plaintexts differ by $0080_{16}$:"
   ]
  },
  {
   "cell_type": "markdown",
   "id": "1fbe9278-4277-4296-8443-b89d478ccbdc",
   "metadata": {},
   "source": [
    "![image](src/Diff2.PNG)"
   ]
  },
  {
   "cell_type": "markdown",
   "id": "6243f4b6-1779-49d3-ba8d-5ebf15c3f4fb",
   "metadata": {},
   "source": [
    "We do not need to traverse the entire network, but we do need these new pairs—namely $E(P_i)$ and $E(P_i \\oplus 0080_{16})$ pairs—to crack $K_3$. With a similar process as before:"
   ]
  },
  {
   "cell_type": "code",
   "execution_count": 14,
   "id": "c44b70f0-e46d-4007-bd24-172ef38c8534",
   "metadata": {},
   "outputs": [],
   "source": [
    "def crack_k3(B: Block, DB: Block, k5, k4):\n",
    "    S = set()\n",
    "    B = round5_inv(B, k5, k4)\n",
    "    DB = round5_inv(DB, k5, k4)\n",
    "    for k3 in range(0xff):\n",
    "        if (R(B.left ^ k3) ^ B.right) ^ (R(DB.left ^ k3) ^ DB.right) == 0x80:\n",
    "            S.add(k3)\n",
    "    return S"
   ]
  },
  {
   "cell_type": "markdown",
   "id": "2b877e0f-4f67-4fec-a8b9-7df557a01208",
   "metadata": {},
   "source": [
    "From here, we need to run our above function to every valid key combination so far. Fortunately, the 'product' function from the native library 'itertools' does this for us:"
   ]
  },
  {
   "cell_type": "code",
   "execution_count": 15,
   "id": "71ae1f4e-e4f4-4d53-a9bf-f368e86608e9",
   "metadata": {},
   "outputs": [
    {
     "data": {
      "text/plain": [
       "[(98, 60),\n",
       " (98, 180),\n",
       " (98, 52),\n",
       " (98, 188),\n",
       " (226, 60),\n",
       " (226, 180),\n",
       " (226, 52),\n",
       " (226, 188)]"
      ]
     },
     "execution_count": 15,
     "metadata": {},
     "output_type": "execute_result"
    }
   ],
   "source": [
    "from itertools import product\n",
    "list(product(valid_K5s, valid_K4s))"
   ]
  },
  {
   "cell_type": "code",
   "execution_count": 16,
   "id": "9466efa4-5f68-49e7-9680-3e4fd3f1fc5f",
   "metadata": {},
   "outputs": [
    {
     "data": {
      "text/plain": [
       "{2, 10, 34, 42, 66, 74, 98, 106, 130, 138, 162, 170, 194, 202, 226, 234}"
      ]
     },
     "execution_count": 16,
     "metadata": {},
     "output_type": "execute_result"
    }
   ],
   "source": [
    "valid_K3s = []\n",
    "for keys in product(valid_K5s, valid_K4s):\n",
    "    S0 = crack_k3(EP0, EP0x0080, *keys)\n",
    "    S1 = crack_k3(EP1, EP1x0080, *keys)\n",
    "    S2 = crack_k3(EP2, EP2x0080, *keys)\n",
    "    S_cap = set.intersection(S0, S1, S2)\n",
    "    if S_cap:\n",
    "        valid_K3s.append(S_cap)\n",
    "valid_K3s = set.union(*valid_K3s)\n",
    "valid_K3s"
   ]
  },
  {
   "cell_type": "markdown",
   "id": "0297feb6-3676-45ee-bc0c-e0467860889d",
   "metadata": {},
   "source": [
    "We can also invert Round 4:"
   ]
  },
  {
   "cell_type": "code",
   "execution_count": 17,
   "id": "939a7ecc-c8e9-45ff-8d6b-0a19234bcc81",
   "metadata": {},
   "outputs": [],
   "source": [
    "def round4_inv(B, k5, k4, k3):\n",
    "    B = round5_inv(B, k5, k4)\n",
    "    N = Block(0)\n",
    "    N.left = B.left\n",
    "    N.right = R(B.left ^ k3) ^ B.right\n",
    "    return N"
   ]
  },
  {
   "cell_type": "markdown",
   "id": "49d41673-bac8-4cdd-a7c9-4f4e41ac946d",
   "metadata": {},
   "source": [
    "However, we now need to inspect our network with a differential of $0008_{16}$ to crack $K_2$, otherwise we will not gain any information (eliminate keys):"
   ]
  },
  {
   "cell_type": "markdown",
   "id": "2a7c25de-640f-436f-920d-9beec2c07b17",
   "metadata": {},
   "source": [
    "![image](src/Diff3.PNG)"
   ]
  },
  {
   "cell_type": "markdown",
   "id": "8618a697-fd80-4c3b-8ecb-2822344c852a",
   "metadata": {},
   "source": [
    "Analogous to before:"
   ]
  },
  {
   "cell_type": "code",
   "execution_count": 18,
   "id": "13e1f481-47f9-491f-9389-9b4a22efa909",
   "metadata": {},
   "outputs": [
    {
     "data": {
      "text/plain": [
       "{49,\n",
       " 51,\n",
       " 53,\n",
       " 55,\n",
       " 57,\n",
       " 59,\n",
       " 61,\n",
       " 63,\n",
       " 113,\n",
       " 115,\n",
       " 117,\n",
       " 119,\n",
       " 121,\n",
       " 123,\n",
       " 125,\n",
       " 127,\n",
       " 177,\n",
       " 179,\n",
       " 181,\n",
       " 183,\n",
       " 185,\n",
       " 187,\n",
       " 189,\n",
       " 191,\n",
       " 241,\n",
       " 243,\n",
       " 245,\n",
       " 247,\n",
       " 249,\n",
       " 251,\n",
       " 253}"
      ]
     },
     "execution_count": 18,
     "metadata": {},
     "output_type": "execute_result"
    }
   ],
   "source": [
    "def crack_k2(B, DB, k5, k4, k3):\n",
    "    S = set()\n",
    "    B = round4_inv(B, k5, k4, k3)\n",
    "    DB = round4_inv(DB, k5, k4, k3)\n",
    "    for k2 in range(0xff):\n",
    "        if (R(B.right ^ k2) ^ B.left) ^ (R(DB.right ^ k2) ^ DB.left) == 0x00:\n",
    "            S.add(k2)\n",
    "    return S\n",
    "\n",
    "valid_K2s = []\n",
    "for key in product(valid_K5s, valid_K4s, valid_K3s):\n",
    "    S0 = crack_k2(EP0, EP0x0008, *key)\n",
    "    S1 = crack_k2(EP1, EP1x0008, *key)\n",
    "    S2 = crack_k2(EP2, EP2x0008, *key)\n",
    "    S_cap = set.intersection(S0, S1, S2)\n",
    "    if S_cap:\n",
    "        valid_K2s.append(S_cap)\n",
    "valid_K2s = set.union(*valid_K2s)\n",
    "valid_K2s"
   ]
  },
  {
   "cell_type": "markdown",
   "id": "e1dc6dac-d1e9-4c56-9a90-fe66ec1e3e03",
   "metadata": {},
   "source": [
    "We have quite a few potential values for $K_2$, but even these will help us narrow down $K_1$ and $K_0$. Nevertheless, we then undo Round 3 and Round 2:"
   ]
  },
  {
   "cell_type": "code",
   "execution_count": 19,
   "id": "05a2ab7a-e26c-4a10-9a19-0869bef667b0",
   "metadata": {},
   "outputs": [],
   "source": [
    "def round3_inv(B, k5, k4, k3, k2):\n",
    "    B = round4_inv(B, k5, k4, k3)\n",
    "    N = Block(0)\n",
    "    N.left = R(B.right ^ k2) ^ B.left\n",
    "    N.right = B.right\n",
    "    return N\n",
    "\n",
    "def round2_inv(B, k5, k4, k3, k2):\n",
    "    B = round3_inv(B, k5, k4, k3, k2)\n",
    "    N = Block(0)\n",
    "    N.left = B.left\n",
    "    N.right = B.left ^ B.right\n",
    "    return N"
   ]
  },
  {
   "cell_type": "markdown",
   "id": "d9ff367b-6e01-42fe-a8c3-4544e222b13b",
   "metadata": {},
   "source": [
    "Further, we may make use of our plaintexts to find values for our remaining keys. In particular, for $K_1$:"
   ]
  },
  {
   "cell_type": "code",
   "execution_count": 20,
   "id": "6673951d-7cbd-4035-8c38-7aef252f11ff",
   "metadata": {},
   "outputs": [
    {
     "data": {
      "text/plain": [
       "{144, 146, 148, 150, 152, 154, 156, 158}"
      ]
     },
     "execution_count": 20,
     "metadata": {},
     "output_type": "execute_result"
    }
   ],
   "source": [
    "def crack_k1(B, P, k5, k4, k3, k2):\n",
    "    S = set()\n",
    "    B = round2_inv(B, k5, k4, k3, k2)\n",
    "    for k1 in range(0xff):\n",
    "        if B.right ^ k1 == P.right:\n",
    "            S.add(k1)\n",
    "    return S\n",
    "\n",
    "valid_K1s = []\n",
    "for key in product(valid_K5s, valid_K4s, valid_K3s, valid_K2s):\n",
    "    S0 = crack_k1(EP0, P0, *key)\n",
    "    S1 = crack_k1(EP1, P1, *key)\n",
    "    S2 = crack_k1(EP2, P2, *key)\n",
    "    S_cap = set.intersection(S0, S1, S2)\n",
    "    if S_cap:\n",
    "        valid_K1s.append(S_cap)\n",
    "valid_K1s = set.union(*valid_K1s)\n",
    "valid_K1s"
   ]
  },
  {
   "cell_type": "markdown",
   "id": "70a481da-87b8-456e-bc42-7450315a5296",
   "metadata": {},
   "source": [
    "And for $K_0$:"
   ]
  },
  {
   "cell_type": "code",
   "execution_count": 21,
   "id": "26230224-1748-4e50-bd14-edfb6ced55db",
   "metadata": {},
   "outputs": [
    {
     "data": {
      "text/plain": [
       "{112, 116, 120, 124}"
      ]
     },
     "execution_count": 21,
     "metadata": {},
     "output_type": "execute_result"
    }
   ],
   "source": [
    "def crack_k0(B, P, k5, k4, k3, k2):\n",
    "    S = set()\n",
    "    B = round2_inv(B, k5, k4, k3, k2)\n",
    "    for k0 in range(0xff):\n",
    "        if B.left ^ k0 == P.left:\n",
    "            S.add(k0)\n",
    "    return S\n",
    "\n",
    "valid_K0s = []\n",
    "for key in product(valid_K5s, valid_K4s, valid_K3s, valid_K2s):\n",
    "    S0 = crack_k0(EP0, P0, *key)\n",
    "    S1 = crack_k0(EP1, P1, *key)\n",
    "    S2 = crack_k0(EP2, P2, *key)\n",
    "    S_cap = set.intersection(S0, S1, S2)\n",
    "    if S_cap:\n",
    "        valid_K0s.append(S_cap)\n",
    "valid_K0s = set.union(*valid_K0s)\n",
    "valid_K0s"
   ]
  },
  {
   "cell_type": "markdown",
   "id": "f28833ac-1f3e-46bc-83bf-67ec41713302",
   "metadata": {},
   "source": [
    "Finally, we may invert Round 1 and check the remaining plaintext-ciphertext pairs to further prune invalid keys:"
   ]
  },
  {
   "cell_type": "code",
   "execution_count": 22,
   "id": "d253c4b1-cb33-409a-9446-dac00d99389a",
   "metadata": {},
   "outputs": [
    {
     "data": {
      "text/plain": [
       "[(98, 60, 98, 251, 154, 120),\n",
       " (98, 60, 98, 123, 146, 112),\n",
       " (98, 60, 226, 115, 154, 112),\n",
       " (98, 60, 226, 243, 146, 120),\n",
       " (98, 188, 106, 251, 146, 112),\n",
       " (98, 188, 106, 123, 154, 120),\n",
       " (98, 188, 234, 115, 146, 120),\n",
       " (98, 188, 234, 243, 154, 112),\n",
       " (226, 180, 106, 115, 146, 120),\n",
       " (226, 180, 106, 243, 154, 112),\n",
       " (226, 180, 234, 251, 146, 112),\n",
       " (226, 180, 234, 123, 154, 120),\n",
       " (226, 52, 98, 115, 154, 112),\n",
       " (226, 52, 98, 243, 146, 120),\n",
       " (226, 52, 226, 251, 154, 120),\n",
       " (226, 52, 226, 123, 146, 112)]"
      ]
     },
     "execution_count": 22,
     "metadata": {},
     "output_type": "execute_result"
    }
   ],
   "source": [
    "def round1_inv(B, k5, k4, k3, k2, k1, k0):\n",
    "    B = round2_inv(B, k5, k4, k3, k2)\n",
    "    N = Block(0)\n",
    "    N.left = B.left ^ k0\n",
    "    N.right = B.right ^ k1\n",
    "    return N\n",
    "\n",
    "valid_keys = []\n",
    "for key in product(valid_K5s, valid_K4s, valid_K3s, valid_K2s, valid_K1s, valid_K0s):\n",
    "    check3 = round1_inv(EP3, *key).word == P3.word\n",
    "    check4 = round1_inv(EP4, *key).word == P4.word\n",
    "    check5 = round1_inv(EP5, *key).word == P5.word\n",
    "    if check3 and check4 and check5:\n",
    "        valid_keys.append(key)\n",
    "valid_keys"
   ]
  },
  {
   "cell_type": "markdown",
   "id": "603b3aa0-3197-400e-8f7f-7579762bbe60",
   "metadata": {},
   "source": [
    "## Decrypting the Ciphertext\n",
    "\n",
    "We still have 16 potential keys to choose from, but we effectively went from brute-forcing a 48-bit key to a 4-bit key, which requires significantly less resources and time. Still, let's look at our ciphertext:"
   ]
  },
  {
   "cell_type": "code",
   "execution_count": 23,
   "id": "d1974d2f-9752-45ca-977c-9b5c8deaa273",
   "metadata": {},
   "outputs": [],
   "source": [
    "ciphertext = '7a47857bcbd5a8c5bed41936ad897f463543b35a31bba9a335a97ff6ae0aced65a3182231a2f813ab5b532a8933cd448eaf0'"
   ]
  },
  {
   "cell_type": "markdown",
   "id": "be75129e-e5ee-4085-b112-799c938a497b",
   "metadata": {},
   "source": [
    "Given we are working with a 16-bit block cipher, we can split our ciphertext into word-size blocks:"
   ]
  },
  {
   "cell_type": "code",
   "execution_count": 24,
   "id": "41d87eb1-535f-40f8-b760-6a4fe2b8d574",
   "metadata": {},
   "outputs": [
    {
     "data": {
      "text/plain": [
       "[31303,\n",
       " 34171,\n",
       " 52181,\n",
       " 43205,\n",
       " 48852,\n",
       " 6454,\n",
       " 44425,\n",
       " 32582,\n",
       " 13635,\n",
       " 45914,\n",
       " 12731,\n",
       " 43427,\n",
       " 13737,\n",
       " 32758,\n",
       " 44554,\n",
       " 52950,\n",
       " 23089,\n",
       " 33315,\n",
       " 6703,\n",
       " 33082,\n",
       " 46517,\n",
       " 12968,\n",
       " 37692,\n",
       " 54344,\n",
       " 60144]"
      ]
     },
     "execution_count": 24,
     "metadata": {},
     "output_type": "execute_result"
    }
   ],
   "source": [
    "CBlocks = []\n",
    "h = len(ciphertext)\n",
    "for i in range(0, h, 4):\n",
    "    CBlocks.append(int(ciphertext[i:i+4], 16))\n",
    "CBlocks"
   ]
  },
  {
   "cell_type": "markdown",
   "id": "44c3d690-d3b4-4a1f-aceb-7f3e84a4a4b5",
   "metadata": {},
   "source": [
    "With some extra work, we can decrypt each ciphertext block for each key and view all potential plaintexts:"
   ]
  },
  {
   "cell_type": "code",
   "execution_count": 25,
   "id": "a2fcde49-a5d5-4ac0-a460-61c794b400c6",
   "metadata": {},
   "outputs": [
    {
     "data": {
      "text/plain": [
       "{b'cygame{f!nD_y0u12_D37t4_..._0r_50mE_6o0d_h4Rdw4r3}'}"
      ]
     },
     "execution_count": 25,
     "metadata": {},
     "output_type": "execute_result"
    }
   ],
   "source": [
    "valid_plaintexts = set()\n",
    "for key in valid_keys:\n",
    "    HexPBlocks = [hex(round1_inv(Block(B), *key).word)[2:] for B in CBlocks]\n",
    "    plaintext = bytes.fromhex(''.join(HexPBlocks))\n",
    "    valid_plaintexts.add(plaintext)\n",
    "valid_plaintexts"
   ]
  },
  {
   "cell_type": "markdown",
   "id": "eb28735d-95e2-4026-93a9-d5883acbe06b",
   "metadata": {},
   "source": [
    "Finally, we are left with only one possible option for our plaintext flag:\n",
    "    \n",
    "    'cygame{f!nD_y0u12_D37t4_..._0r_50mE_6o0d_h4Rdw4r3}'"
   ]
  },
  {
   "cell_type": "markdown",
   "id": "b20bec81-5ab2-4fd1-9c55-8ec061dadb02",
   "metadata": {},
   "source": [
    "## Reflections"
   ]
  },
  {
   "cell_type": "markdown",
   "id": "1e955f13-4263-4edb-8a1d-5b0ff8d0c048",
   "metadata": {},
   "source": [
    "While this challenge may reveal insights into differential cryptanalysis and why it's important we develop cipher algorithms that are resistant to such attacks, the challenge itself has a glaring fault: it's too difficult. That is, the difficulty and time-consuming nature of the problem may dissuade participants from even attempting it, ultimately defeating the oppurtunity to learn.\n",
    "\n",
    "For future implementations of differential cryptanalysis, it may be worth cutting rounds from the encryption network. For example, cutting Rounds 7 and 6 from the above network would alleviate difficulty without comprimising the heart of the problem. For an even simplier problem, display 6 plaintext-ciphertext pairs that all have the same difference and test whether participants can spot the recurring difference between each pair to ultimately decrypt the flag."
   ]
  }
 ],
 "metadata": {
  "kernelspec": {
   "display_name": "Python 3 (ipykernel)",
   "language": "python",
   "name": "python3"
  },
  "language_info": {
   "codemirror_mode": {
    "name": "ipython",
    "version": 3
   },
   "file_extension": ".py",
   "mimetype": "text/x-python",
   "name": "python",
   "nbconvert_exporter": "python",
   "pygments_lexer": "ipython3",
   "version": "3.11.4"
  }
 },
 "nbformat": 4,
 "nbformat_minor": 5
}
