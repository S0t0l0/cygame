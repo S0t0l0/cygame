{
 "cells": [
  {
   "cell_type": "markdown",
   "metadata": {
    "collapsed": false
   },
   "source": [
    "# Elliptic Mayo Writeup\n",
    "\n",
    "## Our Domain Parameters and Public Information\n",
    "\n",
    "Given we are working with Elliptic Curves, any valid point $(x, y)$ will satisfy the following equality\n",
    "\n",
    "$$\n",
    "y^2 = x^3 + ax + b,\n",
    "$$\n",
    "\n",
    "where arithmetic is done modulo $p$. Fortunately, this information is given in the instructions as\n",
    "\n"
   ]
  },
  {
   "cell_type": "code",
   "execution_count": 2,
   "metadata": {
    "collapsed": false
   },
   "outputs": [
   ],
   "source": [
    "p = 0xdb8f1e4884c47bfb\n",
    "a = 0xdb8f1e4884c47bf8\n",
    "b = 0xba0adf33491811a8"
   ]
  },
  {
   "cell_type": "markdown",
   "metadata": {
    "collapsed": false
   },
   "source": [
    "Even further, Computer Algebra Systems like SageMath can do a lot of heavy lifting for us mathematically as concepts like Elliptic Curves are already built in. Using our parameters above, we define our elliptic curve $E$ like so:\n"
   ]
  },
  {
   "cell_type": "code",
   "execution_count": 3,
   "metadata": {
    "collapsed": false
   },
   "outputs": [
   ],
   "source": [
    "E = EllipticCurve(GF(p), (a, b))"
   ]
  },
  {
   "cell_type": "markdown",
   "metadata": {
    "collapsed": false
   },
   "source": [
    "Note the first argument 'GF\\(p\\)' simply tells SageMath that we are performing arithmetic modulo $p$. More formally, we are defining our elliptic curve over the finite field of order $p$; this finite field is often denoted as $\\mathrm{GF}(p)$.\n",
    "\n",
    "Furthermore, we are given the following point of our curve $E$:\n"
   ]
  },
  {
   "cell_type": "code",
   "execution_count": 4,
   "metadata": {
    "collapsed": false
   },
   "outputs": [
   ],
   "source": [
    "G = E(0x18c87d6cc12ee703, 0x869a10ce9f08ed34)"
   ]
  },
  {
   "cell_type": "markdown",
   "metadata": {
    "collapsed": false
   },
   "source": [
    "We can also test that this point is valid:\n"
   ]
  },
  {
   "cell_type": "code",
   "execution_count": 5,
   "metadata": {
    "collapsed": false
   },
   "outputs": [
    {
     "data": {
      "text/plain": [
       "True"
      ]
     },
     "execution_count": 5,
     "metadata": {
     },
     "output_type": "execute_result"
    }
   ],
   "source": [
    "x = G.xy()[0]\n",
    "y = G.xy()[1]\n",
    "y^2 % p == (x^3 + a*x + b) % p"
   ]
  },
  {
   "cell_type": "markdown",
   "metadata": {
    "collapsed": false
   },
   "source": [
    "While we do not know Alexandria's private key $d_A$ and Bobicus' private key $d_B$, we do know their public keys $Q_A = d_A \\cdot G$ and $Q_B=d_B \\cdot G:$ \n"
   ]
  },
  {
   "cell_type": "code",
   "execution_count": 6,
   "metadata": {
    "collapsed": false
   },
   "outputs": [
   ],
   "source": [
    "Q_A = E(0x28aa430008a24715, 0x537c24c86f3f17a4)\n",
    "Q_B = E(0x1ce10c7c5989866e, 0x176acbd73cf15bc8)"
   ]
  },
  {
   "cell_type": "markdown",
   "metadata": {
    "collapsed": false
   },
   "source": [
    "To find the shared secret $S=d_A \\cdot d_B \\cdot G$, we need to find either $d_A$ or $d_B$.  Given we have more intel on Alexandria's side, it would be easiest to find $d_A$.\n",
    "\n"
   ]
  },
  {
   "cell_type": "markdown",
   "metadata": {
    "collapsed": false
   },
   "source": [
    "## Invalid Curve Attack\n",
    "\n",
    "In our true curve $E$, we see that the group of all valid points \\(including the neutral point, or point at infinity\\) has prime order:\n"
   ]
  },
  {
   "cell_type": "code",
   "execution_count": 7,
   "metadata": {
    "collapsed": false
   },
   "outputs": [
    {
     "name": "stdout",
     "output_type": "stream",
     "text": [
      "|E| = 15820897315794384701\n"
     ]
    },
    {
     "data": {
      "text/plain": [
       "True"
      ]
     },
     "execution_count": 7,
     "metadata": {
     },
     "output_type": "execute_result"
    }
   ],
   "source": [
    "n = E.order()\n",
    "print('|E| =', n)\n",
    "n.is_prime()"
   ]
  },
  {
   "cell_type": "markdown",
   "metadata": {
    "collapsed": false
   },
   "source": [
    "Let $|E|=n$. Seeing that $G$ is not the identity element, we know $|G| = n$ by Lagrange's theorem. This makes the discrete logarithm problem particularly difficult as $G$ generates the entire group. Naively, we could test every integer between $1$ and $n$ to find $d_A$:\n"
   ]
  },
  {
   "cell_type": "code",
   "execution_count": 8,
   "metadata": {
    "collapsed": false
   },
   "outputs": [
    {
     "name": "stdout",
     "output_type": "stream",
     "text": [
      "This will take awhile.\n"
     ]
    }
   ],
   "source": [
    "1 * G == Q_A # False\n",
    "2 * G == Q_A # False\n",
    "3 * G == Q_A # False\n",
    "print('This will take awhile.')"
   ]
  },
  {
   "cell_type": "markdown",
   "metadata": {
    "collapsed": false
   },
   "source": [
    "However, even if we loop or use the built\\-in 'discrete\\_log' method, we are unlikely to find $d_A$ in a reasonable amount of time. This is where our invalid curves come into play. Fortunately, some of the work has been done for us.\n",
    "\n",
    "Taking a look at Intel.csv, we have:\n",
    "\n"
   ]
  },
  {
   "cell_type": "code",
   "execution_count": 9,
   "metadata": {
    "collapsed": false
   },
   "outputs": [
    {
     "data": {
      "text/html": [
       "<div>\n",
       "<style scoped>\n",
       "    .dataframe tbody tr th:only-of-type {\n",
       "        vertical-align: middle;\n",
       "    }\n",
       "\n",
       "    .dataframe tbody tr th {\n",
       "        vertical-align: top;\n",
       "    }\n",
       "\n",
       "    .dataframe thead th {\n",
       "        text-align: right;\n",
       "    }\n",
       "</style>\n",
       "<table border=\"1\" class=\"dataframe\">\n",
       "  <thead>\n",
       "    <tr style=\"text-align: right;\">\n",
       "      <th></th>\n",
       "      <th>p</th>\n",
       "      <th>a</th>\n",
       "      <th>b</th>\n",
       "      <th>G</th>\n",
       "      <th>d_A*G</th>\n",
       "      <th>d_B*G</th>\n",
       "    </tr>\n",
       "  </thead>\n",
       "  <tbody>\n",
       "    <tr>\n",
       "      <th>0</th>\n",
       "      <td>0xdb8f1e4884c47bfb</td>\n",
       "      <td>0xdb8f1e4884c47bf8</td>\n",
       "      <td>0xba0adf33491811a8</td>\n",
       "      <td>(0x18c87d6cc12ee703, 0x869a10ce9f08ed34)</td>\n",
       "      <td>(0x28aa430008a24715, 0x537c24c86f3f17a4)</td>\n",
       "      <td>(0x1ce10c7c5989866e, 0x176acbd73cf15bc8)</td>\n",
       "    </tr>\n",
       "    <tr>\n",
       "      <th>1</th>\n",
       "      <td>0xdb8f1e4884c47bfb</td>\n",
       "      <td>0xdb8f1e4884c47bf8</td>\n",
       "      <td>0xed0e0818000417c8</td>\n",
       "      <td>(0x6a71de4cf2c7bc02, 0x552e50cbc80691a7)</td>\n",
       "      <td>(0x7fe76431e04a0aaa, 0x8b99f0d205e1aa6)</td>\n",
       "      <td>UNKNOWN</td>\n",
       "    </tr>\n",
       "    <tr>\n",
       "      <th>2</th>\n",
       "      <td>0xdb8f1e4884c47bfb</td>\n",
       "      <td>0xdb8f1e4884c47bf8</td>\n",
       "      <td>0xd33e7fc2ba39f952</td>\n",
       "      <td>(0x20b95fb49c0abba3, 0x86a9d9e1156788e4)</td>\n",
       "      <td>(0xc37fca91993c3e76, 0xcf780d75c662fa11)</td>\n",
       "      <td>UNKNOWN</td>\n",
       "    </tr>\n",
       "  </tbody>\n",
       "</table>\n",
       "</div>"
      ],
      "text/plain": [
       "                    p                   a                   b  \\\n",
       "0  0xdb8f1e4884c47bfb  0xdb8f1e4884c47bf8  0xba0adf33491811a8   \n",
       "1  0xdb8f1e4884c47bfb  0xdb8f1e4884c47bf8  0xed0e0818000417c8   \n",
       "2  0xdb8f1e4884c47bfb  0xdb8f1e4884c47bf8  0xd33e7fc2ba39f952   \n",
       "\n",
       "                                          G  \\\n",
       "0  (0x18c87d6cc12ee703, 0x869a10ce9f08ed34)   \n",
       "1  (0x6a71de4cf2c7bc02, 0x552e50cbc80691a7)   \n",
       "2  (0x20b95fb49c0abba3, 0x86a9d9e1156788e4)   \n",
       "\n",
       "                                      d_A*G  \\\n",
       "0  (0x28aa430008a24715, 0x537c24c86f3f17a4)   \n",
       "1   (0x7fe76431e04a0aaa, 0x8b99f0d205e1aa6)   \n",
       "2  (0xc37fca91993c3e76, 0xcf780d75c662fa11)   \n",
       "\n",
       "                                      d_B*G  \n",
       "0  (0x1ce10c7c5989866e, 0x176acbd73cf15bc8)  \n",
       "1                                   UNKNOWN  \n",
       "2                                   UNKNOWN  "
      ]
     },
     "execution_count": 9,
     "metadata": {
     },
     "output_type": "execute_result"
    }
   ],
   "source": [
    "import pandas as pd\n",
    "\n",
    "df = pd.read_csv('Intel.csv')\n",
    "df"
   ]
  },
  {
   "cell_type": "markdown",
   "metadata": {
    "collapsed": false
   },
   "source": [
    "### Invalid Curve 1\n",
    "\n",
    "Note that the first row describes our true curve $E$. For our invalid curve $E_1$ \\(middle row\\), we see that $p$ and $a$ remain the same, but $b$ is altered. Given point addition does not rely on the value for $b$, we may use this invalid curve to narrow our options for $d_A$. We then define $E_1$ like so:\n",
    "\n"
   ]
  },
  {
   "cell_type": "code",
   "execution_count": 10,
   "metadata": {
    "collapsed": false
   },
   "outputs": [
   ],
   "source": [
    "b1 = 0xed0e0818000417c8\n",
    "E1 = EllipticCurve(GF(p), (a, b1))"
   ]
  },
  {
   "cell_type": "markdown",
   "metadata": {
    "collapsed": false
   },
   "source": [
    "We also have a different point $G_1$ and $Q_{1_A}=d_A \\cdot G_1$ , where\n"
   ]
  },
  {
   "cell_type": "code",
   "execution_count": 11,
   "metadata": {
    "collapsed": false
   },
   "outputs": [
   ],
   "source": [
    "G1 = E1(0x6a71de4cf2c7bc02, 0x552e50cbc80691a7)\n",
    "Q1_A = E1(0x7fe76431e04a0aaa, 0x8b99f0d205e1aa6)"
   ]
  },
  {
   "cell_type": "markdown",
   "metadata": {
    "collapsed": false
   },
   "source": [
    "However, notice this time that $G_1$ does not generate $E_1$:\n"
   ]
  },
  {
   "cell_type": "code",
   "execution_count": 12,
   "metadata": {
    "collapsed": false
   },
   "outputs": [
    {
     "name": "stdout",
     "output_type": "stream",
     "text": [
      "|E1| = 15820897316377355766\n",
      "|G1| = 66820844767\n"
     ]
    }
   ],
   "source": [
    "print('|E1| =', E1.order())\n",
    "print('|G1| =', G1.order())"
   ]
  },
  {
   "cell_type": "markdown",
   "metadata": {
    "collapsed": false
   },
   "source": [
    "Moreso, $G_1$ even has prime order:\n"
   ]
  },
  {
   "cell_type": "code",
   "execution_count": 13,
   "metadata": {
    "collapsed": false
   },
   "outputs": [
    {
     "data": {
      "text/plain": [
       "True"
      ]
     },
     "execution_count": 13,
     "metadata": {
     },
     "output_type": "execute_result"
    }
   ],
   "source": [
    "G1.order().is_prime()"
   ]
  },
  {
   "cell_type": "markdown",
   "metadata": {
    "collapsed": false
   },
   "source": [
    "Given $|G_1|$ is relatively small, we may calculate the discrete log rather quickly:\n"
   ]
  },
  {
   "cell_type": "code",
   "execution_count": 14,
   "metadata": {
    "collapsed": false
   },
   "outputs": [
    {
     "data": {
      "text/plain": [
       "13087305027"
      ]
     },
     "execution_count": 14,
     "metadata": {
     },
     "output_type": "execute_result"
    }
   ],
   "source": [
    "G1.discrete_log(Q1_A)"
   ]
  },
  {
   "cell_type": "markdown",
   "metadata": {
    "collapsed": false
   },
   "source": [
    "This ultimately tells us $13087305027 \\cdot G_1 = Q_{1_A}$. However, notice that \n",
    "\n",
    "$$\n",
    "|G_1| = 66820844767.\n",
    "$$\n",
    "\n",
    "Treating $\\mathcal{O}$ as the identity element of $E_1$, we also see that for any integer \\$k\\$,\n",
    "\n",
    "\\begin{align}\n",
    "(13087305027 + k \\cdot 66820844767) \\cdot G_1 &= 13087305027 \\cdot G_1 + k \\cdot 66820844767 \\cdot G_1 \\\\\n",
    "&= Q_{1_A} + k \\cdot \\mathcal{O} \\\\\n",
    "&= Q_{1_A} + \\mathcal{O} \\\\\n",
    "&= Q_{1_A}. \\\\\n",
    "\\end{align}\n",
    "\n",
    "That is to say, we can not yet guarantee a value for $d_A$. We can only assert that\n",
    "\n",
    "$$\n",
    "d_A = 13087305027 + k \\cdot 66820844767\n",
    "$$\n",
    "\n",
    "for some integer $k$. In other words,\n",
    "\n",
    "$$\n",
    "d_A \\equiv 13087305027 \\textrm{ }(\\textrm{mod } 66820844767).\n",
    "$$\n",
    "\n",
    "We will want to save this information for later.\n",
    "\n"
   ]
  },
  {
   "cell_type": "code",
   "execution_count": 15,
   "metadata": {
    "collapsed": false
   },
   "outputs": [
    {
     "data": {
      "text/plain": [
       "(13087305027, 66820844767)"
      ]
     },
     "execution_count": 15,
     "metadata": {
     },
     "output_type": "execute_result"
    }
   ],
   "source": [
    "modulus1 = G1.order()\n",
    "remainder1 = G1.discrete_log(Q1_A)\n",
    "remainder1, modulus1"
   ]
  },
  {
   "cell_type": "markdown",
   "metadata": {
    "collapsed": false
   },
   "source": [
    "### Invalid Curve 2\n",
    "\n",
    "For our next invalid curve \\(parameters in last row of Intel.csv\\), we proceed analogously to before:\n",
    "\n"
   ]
  },
  {
   "cell_type": "code",
   "execution_count": 16,
   "metadata": {
    "collapsed": false
   },
   "outputs": [
    {
     "data": {
      "text/plain": [
       "(4614858334, 44177846483)"
      ]
     },
     "execution_count": 16,
     "metadata": {
     },
     "output_type": "execute_result"
    }
   ],
   "source": [
    "b2 = 0xd33e7fc2ba39f952\n",
    "E2 = EllipticCurve(GF(p), (a, b2))\n",
    "G2 = E2(0x20b95fb49c0abba3, 0x86a9d9e1156788e4)\n",
    "Q2_A = E2(0xc37fca91993c3e76, 0xcf780d75c662fa11)\n",
    "modulus2 = G2.order()\n",
    "remainder2 = G2.discrete_log(Q2_A)\n",
    "remainder2, modulus2"
   ]
  },
  {
   "cell_type": "markdown",
   "metadata": {
    "collapsed": false
   },
   "source": [
    "Note that $|G_2|$ is prime. Ultimately, we gather that\n",
    "\n",
    "$$\n",
    "d_A \\equiv 4614858334 \\textrm{ }(\\textrm{mod } 44177846483).\n",
    "$$\n",
    "\n",
    "Seeing that $|G_1|$ and $|G_2|$ are prime, we know they are relatively prime. With this information, we can then use the Chinese remainder theorem:\n",
    "\n"
   ]
  },
  {
   "cell_type": "code",
   "execution_count": 17,
   "metadata": {
    "collapsed": false
   },
   "outputs": [
    {
     "data": {
      "text/plain": [
       "10967933313814980060"
      ]
     },
     "execution_count": 17,
     "metadata": {
     },
     "output_type": "execute_result"
    }
   ],
   "source": [
    "crt(remainder1, remainder2, modulus1, modulus2)"
   ]
  },
  {
   "cell_type": "markdown",
   "metadata": {
    "collapsed": false
   },
   "source": [
    "That is,\n",
    "\n",
    "\n",
    "$$\n",
    "d_A \\equiv 10967933313814980060 \\textrm{ }(\\textrm{mod } 2952001021980899904461)\n",
    "$$\n",
    "\n"
   ]
  },
  {
   "cell_type": "markdown",
   "metadata": {
    "collapsed": false
   },
   "source": [
    "Seeing that the product of our two moduli—$|G_1|$ and $|G_2|$—is greater than $n$, we have\n",
    "\n",
    "$$\n",
    "d_A \\equiv 10967933313814980060 \\textrm{ }(\\textrm{mod } n).\n",
    "$$\n",
    "\n"
   ]
  },
  {
   "cell_type": "markdown",
   "metadata": {
    "collapsed": false
   },
   "source": [
    "Given $d_A$ takes a value between $1$ and $n-1$, we have\n",
    "\n",
    "\n",
    "$$\n",
    "d_A = 10967933313814980060.\n",
    "$$\n",
    "\n"
   ]
  },
  {
   "cell_type": "markdown",
   "metadata": {
    "collapsed": false
   },
   "source": [
    "With this information, we may now find the shared secret $S$:\n"
   ]
  },
  {
   "cell_type": "code",
   "execution_count": 18,
   "metadata": {
    "collapsed": false
   },
   "outputs": [
    {
     "data": {
      "text/plain": [
       "(8716978289614203805, 7923394114363233555)"
      ]
     },
     "execution_count": 18,
     "metadata": {
     },
     "output_type": "execute_result"
    }
   ],
   "source": [
    "d_A = crt(remainder1, remainder2, modulus1, modulus2)\n",
    "S = d_A * Q_B\n",
    "S.xy()"
   ]
  },
  {
   "cell_type": "markdown",
   "metadata": {
    "collapsed": false
   },
   "source": [
    "## Decrypting the Cipher\n",
    "\n",
    "Now that we know the shared secret $S$, we can use its coordinates to find the key and initialization vector to decrypt through AES\\-128:\n"
   ]
  },
  {
   "cell_type": "code",
   "execution_count": 19,
   "metadata": {
    "collapsed": false
   },
   "outputs": [
    {
     "data": {
      "text/plain": [
       "b'cygame{7H13r_CuRv3_G4m3_W3ak}\\x03\\x03\\x03'"
      ]
     },
     "execution_count": 19,
     "metadata": {
     },
     "output_type": "execute_result"
    }
   ],
   "source": [
    "from Crypto.Cipher import AES\n",
    "\n",
    "x = int(S.xy()[0])\n",
    "y = int(S.xy()[1])\n",
    "K = int((x << 64) ^^ y).to_bytes(16, 'big') # ^^ means XOR as ^ was reassigned to exponentiation in SageMath\n",
    "V = int((y << 64) ^^ x).to_bytes(16, 'big')\n",
    "cipher = AES.new(K, 2, V) # 2 means CBC mode\n",
    "ciphertext = int(0x01c62e810475ee812688c2ef10bdd5cfe3bceb68d6ffbb2ee1d1d5d1b2653274).to_bytes(32, 'big')\n",
    "cipher.decrypt(ciphertext)"
   ]
  },
  {
   "cell_type": "markdown",
   "metadata": {
    "collapsed": false
   },
   "source": [
    "Considering our padding method, we finally get the flag:\n",
    "\n",
    "    cygame{7H13r_CuRv3_G4m3_W3ak}.\n",
    "\n"
   ]
  }
 ],
 "metadata": {
  "kernelspec": {
   "argv": [
    "sage-10.1",
    "--python",
    "-m",
    "sage.repl.ipython_kernel",
    "--matplotlib=inline",
    "-f",
    "{connection_file}"
   ],
   "display_name": "SageMath 10.1",
   "env": {
   },
   "language": "sagemath",
   "metadata": {
    "cocalc": {
     "description": "Open-source mathematical software system",
     "priority": 10,
     "url": "https://www.sagemath.org/"
    }
   },
   "name": "sage-10.1",
   "resource_dir": "/ext/jupyter/kernels/sage-10.1"
  },
  "language_info": {
   "codemirror_mode": {
    "name": "ipython",
    "version": 3
   },
   "file_extension": ".py",
   "mimetype": "text/x-python",
   "name": "python",
   "nbconvert_exporter": "python",
   "pygments_lexer": "ipython3",
   "version": "3.11.1"
  }
 },
 "nbformat": 4,
 "nbformat_minor": 4
}