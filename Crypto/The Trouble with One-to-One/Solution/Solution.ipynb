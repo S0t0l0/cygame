{
 "cells": [
  {
   "cell_type": "markdown",
   "id": "04e4a666-271f-4796-b276-4e9dc721fcfe",
   "metadata": {},
   "source": [
    "# The Trouble with One-to-One Solution\n",
    "\n",
    "First, let us take a look at what our ciphertext looks like:"
   ]
  },
  {
   "cell_type": "code",
   "execution_count": 1,
   "id": "719ce115-5b5e-423e-a7f7-0a232275a81c",
   "metadata": {},
   "outputs": [
    {
     "name": "stdout",
     "output_type": "stream",
     "text": [
      "QKLOJKT FJTNZWH ZA JKLEMDTOZK VJEJ YZTN AQHLOKQTOKX QKW JAAJLTOSJ.\n",
      "UZKX YJAZEJ FZWJEK LZFDRTJEH, XEJQT FOKWH UOIJ QU-IOKWO DQSJW TNJ VQM.\n",
      "IKZVUJWXJ QYZRT TNJ DQTTJEKH OK UQKXRQXJH VQH NOH TZZU ZA LNZOLJ.\n",
      "OKTEOLQLOJH OK TNJ WOHTEOYRTOZK ZA UJTTJEH VJEJ NOH DUQMXEZRKW.\n",
      "KRFJEZRH JKLEMDTJW TJGTH VJEJ WJLEMDTJW WRJ TZ NOH FJTNZWH.\n",
      "WJUSJ WJJD OKTZ NOHTZEM, QKW MZR'UU AOKW QU-IOKWO'H FQEI OK LEMDTQKQUMHOH.\n",
      "OT'H Q TJHTQFJKT TZ NOH XJKORH TNQT NOH FJTNZWH HTOUU EJHZKQTJ TZWQM.\n",
      "WJLZWOKX FJHHQXJH EJBROEJH YZTN OKTROTOZK QKW Q IJJK RKWJEHTQKWOKX ZA DQTTJEKH.\n",
      "JSJEM JKLEMDTJW UJTTJE NQH Q HTZEM, VQOTOKX TZ YJ RKEQSJUJW.\n",
      "LZKLJDTH TNQT QU-IOKWO OKTEZWRLJW NQSJ UQOW TNJ XEZRKWVZEI AZE ARTREJ LEMDTQKQUMHTH.\n",
      "ZATJK, UZZIOKX TZ TNJ DQHT LQK OUURFOKQTJ ZRE LREEJKT LNQUUJKXJH.\n",
      "WEQVOKX OKHDOEQTOZK AEZF NOH VZEI LQK LJETQOKUM YJKJAOT QKM QHDOEOKX LZWJYEJQIJE.\n",
      "JSJK TNJK, TZ AOKW TNJ AUQX, UZZI KZ ARETNJE TNQK TNJ AOEHT UJTTJE ZA JQLN HJKTJKLJ.\n",
      "WZK'T AZEXJT TZ JKLQDHRUQTJ OK LREUM YEQLIJTH QKW DEJDJKW TNJ AUQX DEJAOG.\n"
     ]
    }
   ],
   "source": [
    "file = open('ciphertext.txt', 'r')\n",
    "ciphertext = file.read()\n",
    "print(ciphertext)"
   ]
  },
  {
   "cell_type": "markdown",
   "id": "a768cb20-95fd-4c33-8759-373705479d7b",
   "metadata": {},
   "source": [
    "As our instructions mention, this message is likely enciphered with some substitution method. Seeing that ciphertext contains seemingly regular spacing and punctuation, it's likely this substitution cipher is only concerned with alphabetic characters. A naive approach to crack such a cipher may be to try all permutations of the English alphabet, but we are quick to realize how infeasible it is to examine $26! \\approx 4.03 \\cdot 10^{26}$  possibilities. Instead, we may exploit a partiticular weakness of one-to-one ciphers: the frequency of each letter.\n",
    "\n",
    "English texts tend to follow a particular distribution of letters where some letters are more common than others. Particularly, 'E', 'T', 'A', and 'O' tend to be the most common characters (in that order). So let's first rank the commonality of each letter in our cihpertext:"
   ]
  },
  {
   "cell_type": "code",
   "execution_count": 2,
   "id": "4b135078-b96e-435b-9759-05d467e43b84",
   "metadata": {},
   "outputs": [
    {
     "data": {
      "text/plain": [
       "['J', 'T', 'K', 'O']"
      ]
     },
     "execution_count": 2,
     "metadata": {},
     "output_type": "execute_result"
    }
   ],
   "source": [
    "alphabet = [chr(i) for i in range(ord('A'), ord('Z') + 1)]\n",
    "freq = sorted(alphabet, key=lambda x: ciphertext.count(x), reverse=True)\n",
    "freq[:4]"
   ]
  },
  {
   "cell_type": "markdown",
   "id": "2f9d0394-4135-4330-afbf-0031d97c5e66",
   "metadata": {},
   "source": [
    "That is to say, 'J', 'T', 'K', and 'O' are the most common letters in our ciphertext. From here, to reverse the cipher, it is natural to assume 'J' maps to 'E', 'T' maps to 'T', 'K' maps to 'A', and so on. However, not every message is going to follow the typical distribution exactly (this is especially true for short messages and lipograms). Instead, let's start small and just assume 'E' maps to 'J'. Redacting all other letters, we see"
   ]
  },
  {
   "cell_type": "code",
   "execution_count": 3,
   "id": "16089323-da16-43e6-9246-ec065ef87518",
   "metadata": {},
   "outputs": [
    {
     "name": "stdout",
     "output_type": "stream",
     "text": [
      "****E** *E***** ** E********* *E*E **** *********** *** E**E****E.\n",
      "**** *E***E ***E** ******E**, **E** ***** ***E **-***** ***E* **E ***.\n",
      "*****E**E ***** **E ****E*** ** *******E* *** *** **** ** *****E.\n",
      "*********E* ** **E ************ ** *E**E** *E*E *** **********.\n",
      "***E**** E******E* *E*** *E*E *E*****E* **E ** *** *E*****.\n",
      "*E**E *EE* **** *******, *** ***'** **** **-*****'* **** ** *************.\n",
      "**'* * *E****E** ** *** *E**** **** *** *E***** ***** *E*****E *****.\n",
      "*E****** *E****E* *E****E* **** ********* *** * *EE* ***E********* ** ****E***.\n",
      "E*E** E******E* *E**E* *** * *****, ******* ** *E *****E*E*.\n",
      "****E*** **** **-***** ********E* ***E **** **E ********** *** *****E *************.\n",
      "***E*, ******* ** **E **** *** *********E *** ****E** *****E**E*.\n",
      "******* *********** **** *** **** *** *E******* *E*E*** *** ******** ***E**E**E*.\n",
      "E*E* **E*, ** **** **E ****, **** ** *****E* **** **E ***** *E**E* ** E*** *E**E**E.\n",
      "***'* ****E* ** E*********E ** ***** *****E** *** **E*E** **E **** **E***.\n"
     ]
    }
   ],
   "source": [
    "inverse_map = {'J': 'E'}\n",
    "\n",
    "def decipher(ciphertext, inverse_map):\n",
    "    plaintext_attempt = ''\n",
    "    for character in ciphertext:\n",
    "        if character in inverse_map.keys():\n",
    "            plaintext_attempt += inverse_map[character]\n",
    "        elif character in alphabet:\n",
    "            plaintext_attempt += '*'\n",
    "        else:\n",
    "            plaintext_attempt += character\n",
    "    return plaintext_attempt\n",
    "\n",
    "print(decipher(ciphertext, inverse_map))"
   ]
  },
  {
   "cell_type": "markdown",
   "id": "a5c1e935-b34c-453d-a67e-d700af624e4b",
   "metadata": {},
   "source": [
    "With some inspection, some patterns appear assuming 'J' truely does map to 'E'.  For example, words like '\\*EE\\*' may be 'BEEN' or 'SEEN', which may tell us 'K' maps to 'N'. Nevertheless, let's assume 'T' maps to 'T' (as counterintuitive as that may be)."
   ]
  },
  {
   "cell_type": "markdown",
   "id": "d69e01d2-27c3-4d28-90fe-2e7b112abcb6",
   "metadata": {},
   "source": [
    "inverse_map = {'J': 'E',\n",
    "               'T': 'T',\n",
    "              }\n",
    "\n",
    "print(decipher(ciphertext, inverse_map))"
   ]
  },
  {
   "cell_type": "markdown",
   "id": "d7ea035f-efbd-49bc-9216-b10422c22157",
   "metadata": {},
   "source": [
    "Next, let's assume 'K' maps to 'A'."
   ]
  },
  {
   "cell_type": "code",
   "execution_count": 4,
   "id": "e2af8447-3fe6-4ecf-a8a8-5dd6db3ef6eb",
   "metadata": {},
   "outputs": [
    {
     "name": "stdout",
     "output_type": "stream",
     "text": [
      "*A**EAT *ET**** ** EA****T**A *E*E **T* *****A*T*A* *A* E**E*T**E.\n",
      "**A* *E***E ***E*A *****TE**, **E*T **A** ***E **-**A** ***E* T*E ***.\n",
      "*A***E**E ****T T*E **TTE*A* *A **A****E* *** *** T*** ** *****E.\n",
      "*AT******E* *A T*E ***T****T**A ** *ETTE** *E*E *** ********A*.\n",
      "A**E**** EA****TE* TE*T* *E*E *E****TE* **E T* *** *ET****.\n",
      "*E**E *EE* *AT* ***T***, *A* ***'** **A* **-**A**'* **** *A ****T*A******.\n",
      "*T'* * TE*T**EAT T* *** *EA*** T**T *** *ET**** *T*** *E**A*TE T****.\n",
      "*E****A* *E****E* *E****E* **T* *AT**T**A *A* * *EEA *A*E**T*A**A* ** **TTE*A*.\n",
      "E*E** EA****TE* *ETTE* *** * *T***, ***T*A* T* *E *A***E*E*.\n",
      "**A*E*T* T**T **-**A** *AT*****E* ***E **** T*E ****A***** *** **T**E ****T*A****T*.\n",
      "**TEA, *****A* T* T*E ***T **A ******A*TE *** ****EAT *****EA*E*.\n",
      "*****A* *A*****T**A **** *** **** **A *E*T**A** *EAE**T *A* ******A* ***E**E**E*.\n",
      "E*EA T*EA, T* **A* T*E ****, **** A* ***T*E* T**A T*E ****T *ETTE* ** E*** *EATEA*E.\n",
      "**A'T ****ET T* EA*******TE *A ***** *****ET* *A* **E*EA* T*E **** **E***.\n"
     ]
    }
   ],
   "source": [
    "inverse_map = {'J': 'E',\n",
    "               'T': 'T',\n",
    "               'K': 'A',\n",
    "              }\n",
    "\n",
    "print(decipher(ciphertext, inverse_map))"
   ]
  },
  {
   "cell_type": "markdown",
   "id": "cc61ce2f-3967-4936-ac13-ae8a6594f844",
   "metadata": {},
   "source": [
    "We see a couple instances of '\\*A'; however, two letter words ending in 'A' are relatively uncommon in English, so let's take a step back. Still, a word like 'T\\*E' may very well be 'THE', a very common word. Ultimately, by comparing the ciphertext with our previous attempted plaintext, this tells us 'N' may map to 'H'. Supposing as much, we have:"
   ]
  },
  {
   "cell_type": "code",
   "execution_count": 5,
   "id": "58a9befc-2610-4c89-bca3-50e4643677cb",
   "metadata": {},
   "outputs": [
    {
     "name": "stdout",
     "output_type": "stream",
     "text": [
      "****E*T *ETH*** ** E*****T*** *E*E **TH *******T*** *** E**E*T**E.\n",
      "**** *E***E ***E** *****TE**, **E*T ***** ***E **-***** ***E* THE ***.\n",
      "*****E**E ****T THE **TTE*** ** *******E* *** H** T*** ** *H***E.\n",
      "**T******E* ** THE ***T****T*** ** *ETTE** *E*E H** **********.\n",
      "***E**** E*****TE* TE*T* *E*E *E****TE* **E T* H** *ETH***.\n",
      "*E**E *EE* **T* H**T***, *** ***'** **** **-*****'* **** ** ****T********.\n",
      "*T'* * TE*T**E*T T* H** *E**** TH*T H** *ETH*** *T*** *E****TE T****.\n",
      "*E****** *E****E* *E****E* **TH **T**T*** *** * *EE* ***E**T****** ** **TTE***.\n",
      "E*E** E*****TE* *ETTE* H** * *T***, ***T*** T* *E *****E*E*.\n",
      "****E*T* TH*T **-***** **T*****E* H**E **** THE ********** *** **T**E ****T******T*.\n",
      "**TE*, ******* T* THE ***T *** ********TE *** ****E*T *H***E**E*.\n",
      "******* *******T*** **** H** **** *** *E*T***** *E*E**T *** ******** ***E**E**E*.\n",
      "E*E* THE*, T* **** THE ****, **** ** ***THE* TH** THE ****T *ETTE* ** E**H *E*TE**E.\n",
      "***'T ****ET T* E********TE ** ***** *****ET* *** **E*E** THE **** **E***.\n"
     ]
    }
   ],
   "source": [
    "inverse_map = {'J': 'E',\n",
    "               'T': 'T',\n",
    "               'N': 'H',\n",
    "              }\n",
    "\n",
    "print(decipher(ciphertext, inverse_map))"
   ]
  },
  {
   "cell_type": "markdown",
   "id": "42fe889b-12ba-402b-bc3a-84a1418e7d9a",
   "metadata": {},
   "source": [
    "Further, 'T\\*' and 'TH\\*T' may be 'TO' and 'THAT' respectively. Not to mention, single '\\*' may be 'A' if not 'I'. Expanding our map, we see:"
   ]
  },
  {
   "cell_type": "code",
   "execution_count": 6,
   "id": "bd1725ac-3e37-40a5-a776-da5717236991",
   "metadata": {},
   "outputs": [
    {
     "name": "stdout",
     "output_type": "stream",
     "text": [
      "A***E*T *ETHO** O* E*****T*O* *E*E *OTH *A****AT*** A** E**E*T**E.\n",
      "*O** *E*O*E *O*E** *O***TE**, **EAT ***** ***E A*-***** *A*E* THE *A*.\n",
      "**O**E**E A*O*T THE *ATTE*** ** *A***A*E* *A* H** TOO* O* *HO**E.\n",
      "**T***A**E* ** THE ***T****T*O* O* *ETTE** *E*E H** **A***O***.\n",
      "***E*O** E*****TE* TE*T* *E*E *E****TE* **E TO H** *ETHO**.\n",
      "*E**E *EE* **TO H**TO**, A** *O*'** **** A*-*****'* *A** ** ****TA*A*****.\n",
      "*T'* A TE*TA*E*T TO H** *E**** THAT H** *ETHO** *T*** *E*O*ATE TO*A*.\n",
      "*E*O**** *E**A*E* *E****E* *OTH **T**T*O* A** A *EE* ***E**TA***** O* *ATTE***.\n",
      "E*E** E*****TE* *ETTE* HA* A *TO**, *A*T*** TO *E ***A*E*E*.\n",
      "*O**E*T* THAT A*-***** **T*O***E* HA*E *A** THE **O****O** *O* **T**E ****TA*A***T*.\n",
      "O*TE*, *OO**** TO THE *A*T *A* *******ATE O** ****E*T *HA**E**E*.\n",
      "**A**** ******AT*O* **O* H** *O** *A* *E*TA**** *E*E**T A** A******* *O*E**EA*E*.\n",
      "E*E* THE*, TO **** THE **A*, *OO* *O ***THE* THA* THE ****T *ETTE* O* EA*H *E*TE**E.\n",
      "*O*'T *O**ET TO E**A****ATE ** ***** **A**ET* A** **E*E** THE **A* **E***.\n"
     ]
    }
   ],
   "source": [
    "inverse_map = {'J': 'E',\n",
    "               'T': 'T',\n",
    "               'N': 'H',\n",
    "               'Z': 'O',\n",
    "               'Q': 'A',\n",
    "              }\n",
    "\n",
    "print(decipher(ciphertext, inverse_map))"
   ]
  },
  {
   "cell_type": "markdown",
   "id": "54f5f575-7988-46e8-8af6-03d0a99d69c2",
   "metadata": {},
   "source": [
    "With a deeper look into our ciphertext, we notice \"MZR'UU\". The apostrophe tells us the word is either a contraction or possessive. Given 'UU' follows the apostrophe and 'WILL' is commonly contracted, we surmise 'U' has been substituted for 'L'. Even further, we can make some fair guesses for our inverse map with words like 'EA\\*H', 'THA\\*', 'HA\\*E', and 'O\\*'."
   ]
  },
  {
   "cell_type": "code",
   "execution_count": 7,
   "id": "de493b10-700c-40ca-9212-0db03394a3de",
   "metadata": {},
   "outputs": [
    {
     "name": "stdout",
     "output_type": "stream",
     "text": [
      "ANC*ENT *ETHO** OF ENC***T*ON *E*E *OTH FA*C*NAT*N* AN* EFFECT*VE.\n",
      "LON* *EFO*E *O*E*N CO***TE**, **EAT **N** L**E AL-**N** *AVE* THE *A*.\n",
      "*NO*LE**E A*O*T THE *ATTE*N* *N LAN**A*E* *A* H** TOOL OF CHO*CE.\n",
      "*NT**CAC*E* *N THE ***T****T*ON OF LETTE** *E*E H** *LA***O*N*.\n",
      "N**E*O** ENC***TE* TE*T* *E*E *EC***TE* **E TO H** *ETHO**.\n",
      "*ELVE *EE* *NTO H**TO**, AN* *O*'LL F*N* AL-**N**'* *A** *N C***TANAL****.\n",
      "*T'* A TE*TA*ENT TO H** *EN*** THAT H** *ETHO** *T*LL *E*ONATE TO*A*.\n",
      "*ECO**N* *E**A*E* *E****E* *OTH *NT**T*ON AN* A *EEN *N*E**TAN**N* OF *ATTE*N*.\n",
      "EVE** ENC***TE* LETTE* HA* A *TO**, *A*T*N* TO *E *N*AVELE*.\n",
      "CONCE*T* THAT AL-**N** *NT*O**CE* HAVE LA** THE **O*N**O** FO* F*T**E C***TANAL**T*.\n",
      "OFTEN, LOO**N* TO THE *A*T CAN *LL***NATE O** C***ENT CHALLEN*E*.\n",
      "**A**N* *N****AT*ON F*O* H** *O** CAN CE*TA*NL* *ENEF*T AN* A*****N* CO*E**EA*E*.\n",
      "EVEN THEN, TO F*N* THE FLA*, LOO* NO F**THE* THAN THE F***T LETTE* OF EACH *ENTENCE.\n",
      "*ON'T FO**ET TO ENCA***LATE *N C**L* **AC*ET* AN* **E*EN* THE FLA* **EF**.\n"
     ]
    }
   ],
   "source": [
    "inverse_map = {'J': 'E',\n",
    "               'T': 'T',\n",
    "               'N': 'H',\n",
    "               'Z': 'O',\n",
    "               'Q': 'A',\n",
    "               'U': 'L',\n",
    "               'L': 'C',\n",
    "               'K': 'N',\n",
    "               'S': 'V',\n",
    "               'A': 'F',\n",
    "              }\n",
    "\n",
    "print(decipher(ciphertext, inverse_map))"
   ]
  },
  {
   "cell_type": "markdown",
   "id": "c441867b-7e28-450a-b7dc-266d86d1ce83",
   "metadata": {},
   "source": [
    "From here, with some extra work, we can find our plaintext:"
   ]
  },
  {
   "cell_type": "code",
   "execution_count": 8,
   "id": "e5ffe5e4-4db4-480f-8c81-173f9f5a430e",
   "metadata": {},
   "outputs": [
    {
     "name": "stdout",
     "output_type": "stream",
     "text": [
      "ANCIENT METHODS OF ENCRYPTION WERE BOTH FASCINATING AND EFFECTIVE.\n",
      "LONG BEFORE MODERN COMPUTERS, GREAT MINDS LIKE AL-KINDI PAVED THE WAY.\n",
      "KNOWLEDGE ABOUT THE PATTERNS IN LANGUAGES WAS HIS TOOL OF CHOICE.\n",
      "INTRICACIES IN THE DISTRIBUTION OF LETTERS WERE HIS PLAYGROUND.\n",
      "NUMEROUS ENCRYPTED TEXTS WERE DECRYPTED DUE TO HIS METHODS.\n",
      "DELVE DEEP INTO HISTORY, AND YOU'LL FIND AL-KINDI'S MARK IN CRYPTANALYSIS.\n",
      "IT'S A TESTAMENT TO HIS GENIUS THAT HIS METHODS STILL RESONATE TODAY.\n",
      "DECODING MESSAGES REQUIRES BOTH INTUITION AND A KEEN UNDERSTANDING OF PATTERNS.\n",
      "EVERY ENCRYPTED LETTER HAS A STORY, WAITING TO BE UNRAVELED.\n",
      "CONCEPTS THAT AL-KINDI INTRODUCED HAVE LAID THE GROUNDWORK FOR FUTURE CRYPTANALYSTS.\n",
      "OFTEN, LOOKING TO THE PAST CAN ILLUMINATE OUR CURRENT CHALLENGES.\n",
      "DRAWING INSPIRATION FROM HIS WORK CAN CERTAINLY BENEFIT ANY ASPIRING CODEBREAKER.\n",
      "EVEN THEN, TO FIND THE FLAG, LOOK NO FURTHER THAN THE FIRST LETTER OF EACH SENTENCE.\n",
      "DON'T FORGET TO ENCAPSULATE IN CURLY BRACKETS AND PREPEND THE FLAG PREFIX.\n"
     ]
    }
   ],
   "source": [
    "inverse_map = {'J': 'E',\n",
    "               'T': 'T',\n",
    "               'N': 'H',\n",
    "               'Z': 'O',\n",
    "               'Q': 'A',\n",
    "               'U': 'L',\n",
    "               'L': 'C',\n",
    "               'K': 'N',\n",
    "               'S': 'V',\n",
    "               'A': 'F',\n",
    "               'O': 'I',\n",
    "               'H': 'S',\n",
    "               'W': 'D',\n",
    "               'X': 'G',\n",
    "               'F': 'M',\n",
    "               'Y': 'B',\n",
    "               'V': 'W',\n",
    "               'M': 'Y',\n",
    "               'R': 'U',\n",
    "               'E': 'R',\n",
    "               'D': 'P',\n",
    "               'I': 'K',\n",
    "               'G': 'X',\n",
    "               'B': 'Q',\n",
    "              }\n",
    "\n",
    "print(decipher(ciphertext, inverse_map))"
   ]
  },
  {
   "cell_type": "markdown",
   "id": "5a98a5c5-363f-45f8-8d45-049800bb1001",
   "metadata": {},
   "source": [
    "Note that our inverse map is not quite complete as letters like 'J' and 'Z' are not in our plaintext. Even still, we have enough information to recover our flag: cygame{ALKINDIDECODED}."
   ]
  }
 ],
 "metadata": {
  "kernelspec": {
   "display_name": "Python 3 (ipykernel)",
   "language": "python",
   "name": "python3"
  },
  "language_info": {
   "codemirror_mode": {
    "name": "ipython",
    "version": 3
   },
   "file_extension": ".py",
   "mimetype": "text/x-python",
   "name": "python",
   "nbconvert_exporter": "python",
   "pygments_lexer": "ipython3",
   "version": "3.11.4"
  }
 },
 "nbformat": 4,
 "nbformat_minor": 5
}
